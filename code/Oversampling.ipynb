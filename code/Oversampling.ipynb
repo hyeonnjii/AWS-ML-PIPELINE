{
 "cells": [
  {
   "cell_type": "code",
   "execution_count": 1,
   "id": "b8307680-ddb8-439d-b9dc-ea96f3f888d3",
   "metadata": {
    "tags": []
   },
   "outputs": [
    {
     "name": "stderr",
     "output_type": "stream",
     "text": [
      "/home/ec2-user/anaconda3/envs/python3/lib/python3.10/site-packages/fsspec/registry.py:279: UserWarning: Your installed version of s3fs is very old and known to cause\n",
      "severe performance issues, see also https://github.com/dask/dask/issues/10276\n",
      "\n",
      "To fix, you should specify a lower version bound on s3fs, or\n",
      "update the current installation.\n",
      "\n",
      "  warnings.warn(s3_msg)\n"
     ]
    },
    {
     "name": "stdout",
     "output_type": "stream",
     "text": [
      "                id_job    id_array_job  id_array_task         id_user  \\\n",
      "0       65590191436871  14108987335445            114  87509498710061   \n",
      "1       64310074400647  61177129314629            600  42770088536256   \n",
      "2       34191949612627  14108987335445            115  87509498710061   \n",
      "3       21630303188597  61177129314629            601  42770088536256   \n",
      "4       10343100598054  61177129314629            602  42770088536256   \n",
      "...                ...             ...            ...             ...   \n",
      "395909  75124122894379  16618712154521     4294967294   1706828023724   \n",
      "395910  37802476679519  16618712154521     4294967294   1706828023724   \n",
      "395911   9807128696900  38040778438207            109  48065336140816   \n",
      "395912  42865228158509  38040778438207            110  48065336140816   \n",
      "395913  36690157579853  38040778438207            111  48065336140816   \n",
      "\n",
      "           kill_requid  nodes_alloc  cpus_req  derived_ec  exit_code  \\\n",
      "0       61026541062099            1        20           0          0   \n",
      "1       61026541062099            1        20           0          0   \n",
      "2       61026541062099            1        20           0          0   \n",
      "3       61026541062099            1        20           0          0   \n",
      "4       61026541062099            1        20           0          0   \n",
      "...                ...          ...       ...         ...        ...   \n",
      "395909  61026541062099            1        10           0          0   \n",
      "395910  61026541062099            1        10           0          0   \n",
      "395911  61026541062099            1        20           0          0   \n",
      "395912  61026541062099            1        20           0          0   \n",
      "395913  61026541062099            1        20           0          0   \n",
      "\n",
      "        gres_used  ...  tres_alloc_fs  tres_req_vmem tres_alloc_vmem  \\\n",
      "0             NaN  ...              0              0               0   \n",
      "1             NaN  ...              0              0               0   \n",
      "2             NaN  ...              0              0               0   \n",
      "3             NaN  ...              0              0               0   \n",
      "4             NaN  ...              0              0               0   \n",
      "...           ...  ...            ...            ...             ...   \n",
      "395909        NaN  ...              0              0               0   \n",
      "395910        NaN  ...              0              0               0   \n",
      "395911        NaN  ...              0              0               0   \n",
      "395912        NaN  ...              0              0               0   \n",
      "395913        NaN  ...              0              0               0   \n",
      "\n",
      "        tres_req_pages  tres_alloc_pages tres_req_gpu:tesla  \\\n",
      "0                    0                 0                  0   \n",
      "1                    0                 0                  0   \n",
      "2                    0                 0                  0   \n",
      "3                    0                 0                  0   \n",
      "4                    0                 0                  0   \n",
      "...                ...               ...                ...   \n",
      "395909               0                 0                  0   \n",
      "395910               0                 0                  0   \n",
      "395911               0                 0                  0   \n",
      "395912               0                 0                  0   \n",
      "395913               0                 0                  0   \n",
      "\n",
      "        tres_alloc_gpu:tesla  tres_req_gpu:volta  tres_alloc_gpu:volta  model  \n",
      "0                          0                   0                     0    NaN  \n",
      "1                          0                   0                     0    NaN  \n",
      "2                          0                   0                     0    NaN  \n",
      "3                          0                   0                     0    NaN  \n",
      "4                          0                   0                     0    NaN  \n",
      "...                      ...                 ...                   ...    ...  \n",
      "395909                     0                   1                     1    NaN  \n",
      "395910                     0                   1                     1    NaN  \n",
      "395911                     0                   1                     1    NaN  \n",
      "395912                     0                   1                     1    NaN  \n",
      "395913                     0                   1                     1    NaN  \n",
      "\n",
      "[395914 rows x 46 columns]\n"
     ]
    }
   ],
   "source": [
    "import pandas as pd\n",
    "import boto3\n",
    "\n",
    "s3 = boto3.client('s3')\n",
    "\n",
    "# s3에서 데이터 로드\n",
    "df = pd.read_csv('s3a://testawsbucket-01/output/merged_df.csv/part-00000-bbb9f4ff-1108-4b02-96b3-7188aa8d7ccf-c000.csv', low_memory=False)\n",
    "print(df)"
   ]
  },
  {
   "cell_type": "code",
   "execution_count": 2,
   "id": "2140de6a-70e0-418f-8a3c-bcab7954d9fd",
   "metadata": {
    "tags": []
   },
   "outputs": [],
   "source": [
    "# 결측치 채우기\n",
    "\n",
    "df['gres_used'] = df['gres_used'].fillna(0)\n",
    "df['model'] = df['model'].fillna('NONE')"
   ]
  },
  {
   "cell_type": "code",
   "execution_count": 3,
   "id": "f91254cc-4430-4bc7-aeea-c8bf4b9608ba",
   "metadata": {
    "tags": []
   },
   "outputs": [],
   "source": [
    "# 범주형 변수 원-핫 인코딩\n",
    "df = pd.get_dummies(df, columns=['constraints', 'partition', 'job_type'])\n"
   ]
  },
  {
   "cell_type": "code",
   "execution_count": 4,
   "id": "bff40670-679a-457d-b7a9-8ecb77bba723",
   "metadata": {
    "tags": []
   },
   "outputs": [],
   "source": [
    "# 컬럼 이름 정제\n",
    "df.columns = df.columns.str.replace(r'[^a-zA-Z0-9_]', '_', regex=True)"
   ]
  },
  {
   "cell_type": "code",
   "execution_count": 5,
   "id": "b54ef856-b149-4feb-80e9-f922ef64bea1",
   "metadata": {
    "tags": []
   },
   "outputs": [],
   "source": [
    "from sklearn.preprocessing import LabelEncoder\n",
    "\n",
    "# 'model' 컬럼 라벨 인코딩\n",
    "label_encoder = LabelEncoder()\n",
    "y = label_encoder.fit_transform(df['model'])\n",
    "df = df.drop('model', axis=1)"
   ]
  },
  {
   "cell_type": "code",
   "execution_count": 6,
   "id": "8b43fbfd-803e-4ac0-8e2e-8342fa2798dc",
   "metadata": {
    "tags": []
   },
   "outputs": [],
   "source": [
    "from sklearn.model_selection import train_test_split\n",
    "\n",
    "X = df\n",
    "X_train, X_temp, y_train, y_temp = train_test_split(X, y, test_size=0.3, random_state=42)\n",
    "X_valid, X_test, y_valid, y_test = train_test_split(X_temp, y_temp, test_size=0.5, random_state=42)"
   ]
  },
  {
   "cell_type": "code",
   "execution_count": 8,
   "id": "a43ce449-22b7-4bcd-817e-e9431cfa460a",
   "metadata": {
    "tags": []
   },
   "outputs": [
    {
     "name": "stdout",
     "output_type": "stream",
     "text": [
      "Collecting imblearn\n",
      "  Downloading imblearn-0.0-py2.py3-none-any.whl.metadata (355 bytes)\n",
      "Collecting imbalanced-learn (from imblearn)\n",
      "  Downloading imbalanced_learn-0.12.3-py3-none-any.whl.metadata (8.3 kB)\n",
      "Requirement already satisfied: numpy>=1.17.3 in /home/ec2-user/anaconda3/envs/python3/lib/python3.10/site-packages (from imbalanced-learn->imblearn) (1.22.4)\n",
      "Requirement already satisfied: scipy>=1.5.0 in /home/ec2-user/anaconda3/envs/python3/lib/python3.10/site-packages (from imbalanced-learn->imblearn) (1.13.1)\n",
      "Requirement already satisfied: scikit-learn>=1.0.2 in /home/ec2-user/anaconda3/envs/python3/lib/python3.10/site-packages (from imbalanced-learn->imblearn) (1.5.0)\n",
      "Requirement already satisfied: joblib>=1.1.1 in /home/ec2-user/anaconda3/envs/python3/lib/python3.10/site-packages (from imbalanced-learn->imblearn) (1.4.2)\n",
      "Requirement already satisfied: threadpoolctl>=2.0.0 in /home/ec2-user/anaconda3/envs/python3/lib/python3.10/site-packages (from imbalanced-learn->imblearn) (3.5.0)\n",
      "Downloading imblearn-0.0-py2.py3-none-any.whl (1.9 kB)\n",
      "Downloading imbalanced_learn-0.12.3-py3-none-any.whl (258 kB)\n",
      "\u001b[2K   \u001b[90m━━━━━━━━━━━━━━━━━━━━━━━━━━━━━━━━━━━━━━━━\u001b[0m \u001b[32m258.3/258.3 kB\u001b[0m \u001b[31m7.8 MB/s\u001b[0m eta \u001b[36m0:00:00\u001b[0m\n",
      "\u001b[?25hInstalling collected packages: imbalanced-learn, imblearn\n",
      "Successfully installed imbalanced-learn-0.12.3 imblearn-0.0\n"
     ]
    }
   ],
   "source": [
    "!pip install imblearn"
   ]
  },
  {
   "cell_type": "code",
   "execution_count": null,
   "id": "332c1add-8a9b-480e-84ef-97a06f254c4e",
   "metadata": {
    "tags": []
   },
   "outputs": [],
   "source": [
    "from imblearn.over_sampling import SMOTE\n",
    "\n",
    "smote = SMOTE(random_state=42)\n",
    "X_resampled, y_resampled = smote.fit_resample(X_train, y_train)\n"
   ]
  },
  {
   "cell_type": "code",
   "execution_count": null,
   "id": "8c3f551c-2b4a-4391-9520-e0ccde979384",
   "metadata": {},
   "outputs": [],
   "source": [
    "import numpy as np\n",
    "import lightgbm as lgb\n",
    "from sklearn.metrics import log_loss\n",
    "\n",
    "# 1. LightGBM\n",
    "train_data = lgb.Dataset(X_resampled, label=y_train)\n",
    "valid_data = lgb.Dataset(X_valid, label=y_valid)\n",
    "\n",
    "params_lgb = {\n",
    "    'objective': 'multiclass',\n",
    "    'metric': 'multi_logloss',\n",
    "    'num_class': len(np.unique(y_train)),\n",
    "    'learning_rate': 0.01,\n",
    "    'num_leaves': 31\n",
    "}\n",
    "\n",
    "lgb_model = lgb.train(\n",
    "    params_lgb,\n",
    "    train_data,\n",
    "    valid_sets=[valid_data],\n",
    "    callbacks=[lgb.early_stopping(stopping_rounds=3), lgb.log_evaluation(period=100)]\n",
    ")\n",
    "\n",
    "\n",
    "with open('model/oversampling/lgb_model.pkl', 'wb') as f:\n",
    "    pickle.dump(lgb_model, f)\n",
    "    \n",
    "\n",
    "# 예측 결과의 확률을 계산\n",
    "lgb_pred = lgb_model.predict(X_valid, raw_score=False)\n",
    "\n",
    "# 로그 손실 계산\n",
    "lgb_log_loss = log_loss(y_valid, lgb_pred)\n",
    "print(f'LightGBM Log Loss: {lgb_log_loss}')\n"
   ]
  },
  {
   "cell_type": "code",
   "execution_count": null,
   "id": "d6439728-d415-4c64-a6f6-04b593cd6cc8",
   "metadata": {},
   "outputs": [],
   "source": [
    "# 2. XGBoost\n",
    "import xgboost as xgb\n",
    "\n",
    "dtrain = xgb.DMatrix(X_train, label=y_train)\n",
    "dvalid = xgb.DMatrix(X_valid, label=y_valid)\n",
    "\n",
    "params_xgb = {\n",
    "    'objective': 'multi:softprob',\n",
    "    'num_class': len(np.unique(y_train)),\n",
    "    'eval_metric': 'mlogloss',\n",
    "    'max_depth': 6,\n",
    "    'learning_rate': 0.01\n",
    "}\n",
    "\n",
    "xgb_model = xgb.train(params_xgb, dtrain, num_boost_round=800, \n",
    "                       evals=[(dvalid, 'eval')],\n",
    "                       early_stopping_rounds=3, \n",
    "                       verbose_eval=True)\n",
    "\n",
    "with open('model/oversampling/xgb_model.pkl', 'wb') as f:\n",
    "    pickle.dump(xgb_model, f)\n",
    "\n",
    "\n",
    "xgb_pred = xgb_model.predict(dvalid)\n",
    "xgb_log_loss = log_loss(y_valid, xgb_pred)\n",
    "print(f'XGBoost Log Loss: {xgb_log_loss}')"
   ]
  },
  {
   "cell_type": "code",
   "execution_count": null,
   "id": "b191aca0-0323-423e-8518-edfe487c43dd",
   "metadata": {},
   "outputs": [],
   "source": [
    "from catboost import CatBoostClassifier, Pool\n",
    "from sklearn.metrics import log_loss\n",
    "\n",
    "# Pool 객체 생성\n",
    "train_pool = Pool(X_train, y_train)\n",
    "valid_pool = Pool(X_valid, y_valid)\n",
    "\n",
    "# CatBoost 모델 설정\n",
    "cat_model = CatBoostClassifier(\n",
    "    iterations=800,\n",
    "    learning_rate=0.01,\n",
    "    depth=6,\n",
    "    eval_metric='MultiClass',\n",
    "    early_stopping_rounds=3,\n",
    "    verbose=100\n",
    ")\n",
    "\n",
    "# 모델 훈련\n",
    "cat_model.fit(train_pool, eval_set=valid_pool)\n",
    "\n",
    "# 모델 저장\n",
    "cat_model.save_model('model/oversampling/catboost_model.cbm')\n",
    "\n",
    "\n",
    "# 유효성 검증 데이터에 대한 예측 확률 계산\n",
    "cat_proba = cat_model.predict_proba(X_valid)"
   ]
  },
  {
   "cell_type": "code",
   "execution_count": null,
   "id": "e81422fd-8689-46cc-8944-4d6a3cbac66f",
   "metadata": {},
   "outputs": [],
   "source": [
    "from sklearn.metrics import accuracy_score, f1_score, confusion_matrix, ConfusionMatrixDisplay, log_loss\n",
    "import numpy as np\n",
    "\n",
    "# 예측값을 클래스 레이블로 변환\n",
    "lgb_pred_probs = lgb_model.predict(X_test)  # LightGBM\n",
    "lgb_pred_classes = np.argmax(lgb_pred_probs, axis=1)\n",
    "\n",
    "cat_pred_probs = cat_model.predict_proba(X_test)  # CatBoost\n",
    "cat_pred_classes = np.argmax(cat_pred_probs, axis=1)\n",
    "\n",
    "xgb_pred_probs = xgb_model.predict(xgb.DMatrix(X_test))  # XGBoost\n",
    "xgb_pred_classes = np.argmax(xgb_pred_probs, axis=1)\n",
    "\n",
    "# 평가 지표 계산\n",
    "lgb_accuracy = accuracy_score(y_test, lgb_pred_classes)\n",
    "cat_accuracy = accuracy_score(y_test, cat_pred_classes)\n",
    "xgb_accuracy = accuracy_score(y_test, xgb_pred_classes)\n",
    "\n",
    "lgb_f1 = f1_score(y_test, lgb_pred_classes, average='macro')\n",
    "cat_f1 = f1_score(y_test, cat_pred_classes, average='macro')\n",
    "xgb_f1 = f1_score(y_test, xgb_pred_classes, average='macro')\n",
    "\n",
    "lgb_log_loss = log_loss(y_test, lgb_pred_probs)\n",
    "cat_log_loss = log_loss(y_test, cat_pred_probs)\n",
    "xgb_log_loss = log_loss(y_test, xgb_pred_probs)\n",
    "\n",
    "\n",
    "# 결과 출력\n",
    "print(f\"LightGBM Accuracy: {lgb_accuracy}\")\n",
    "print(f\"CatBoost Accuracy: {cat_accuracy}\")\n",
    "print(f\"XGBoost Accuracy: {xgb_accuracy}\")\n",
    "\n",
    "print(f\"LightGBM F1 Score: {lgb_f1}\")\n",
    "print(f\"CatBoost F1 Score: {cat_f1}\")\n",
    "print(f\"XGBoost F1 Score: {xgb_f1}\")\n",
    "\n",
    "print(f\"LightGBM Log Loss: {lgb_log_loss}\")\n",
    "print(f\"CatBoost Log Loss: {cat_log_loss}\")\n",
    "print(f\"XGBoost Log Loss: {xgb_log_loss}\")\n",
    "\n"
   ]
  },
  {
   "cell_type": "code",
   "execution_count": null,
   "id": "b4d5d96b-89ba-4147-a147-d6cbf6671024",
   "metadata": {},
   "outputs": [],
   "source": [
    "import matplotlib.pyplot as plt\n",
    "\n",
    "# Confusion Matrix\n",
    "lgb_cm = confusion_matrix(y_test, lgb_pred_classes)\n",
    "cat_cm = confusion_matrix(y_test, cat_pred_classes)\n",
    "xgb_cm = confusion_matrix(y_test, xgb_pred_classes)\n",
    "\n",
    "# Visualize Confusion Matrix\n",
    "fig, ax = plt.subplots(1, 3, figsize=(15, 5))\n",
    "\n",
    "ConfusionMatrixDisplay(confusion_matrix=lgb_cm).plot(ax=ax[0])\n",
    "ax[0].set_title('LightGBM Confusion Matrix')\n",
    "\n",
    "ConfusionMatrixDisplay(confusion_matrix=cat_cm).plot(ax=ax[1])\n",
    "ax[1].set_title('CatBoost Confusion Matrix')\n",
    "\n",
    "ConfusionMatrixDisplay(confusion_matrix=xgb_cm).plot(ax=ax[2])\n",
    "ax[2].set_title('XGBoost Confusion Matrix')\n",
    "\n",
    "plt.tight_layout()\n",
    "plt.show()"
   ]
  }
 ],
 "metadata": {
  "kernelspec": {
   "display_name": "conda_python3",
   "language": "python",
   "name": "conda_python3"
  },
  "language_info": {
   "codemirror_mode": {
    "name": "ipython",
    "version": 3
   },
   "file_extension": ".py",
   "mimetype": "text/x-python",
   "name": "python",
   "nbconvert_exporter": "python",
   "pygments_lexer": "ipython3",
   "version": "3.10.14"
  }
 },
 "nbformat": 4,
 "nbformat_minor": 5
}
